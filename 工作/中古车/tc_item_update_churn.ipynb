{
  "metadata": {
    "kernelspec": {
      "language": "python",
      "display_name": "Python 3",
      "name": "python3"
    },
    "language_info": {
      "name": "python",
      "version": "3.7.12",
      "mimetype": "text/x-python",
      "codemirror_mode": {
        "name": "ipython",
        "version": 3
      },
      "pygments_lexer": "ipython3",
      "nbconvert_exporter": "python",
      "file_extension": ".py"
    },
    "colab": {
      "provenance": [],
      "collapsed_sections": [],
      "toc_visible": true,
      "include_colab_link": true
    },
    "accelerator": "TPU",
    "gpuClass": "standard"
  },
  "nbformat_minor": 0,
  "nbformat": 4,
  "cells": [
    {
      "cell_type": "markdown",
      "metadata": {
        "id": "view-in-github",
        "colab_type": "text"
      },
      "source": [
        "<a href=\"https://colab.research.google.com/github/treerootboy/AIMetaCharacter/blob/master/%E5%B7%A5%E4%BD%9C/%E4%B8%AD%E5%8F%A4%E8%BD%A6/tc_item_update_churn.ipynb\" target=\"_parent\"><img src=\"https://colab.research.google.com/assets/colab-badge.svg\" alt=\"Open In Colab\"/></a>"
      ]
    },
    {
      "cell_type": "markdown",
      "source": [
        "# TC更新流失用户模型"
      ],
      "metadata": {
        "id": "SSHVFkVc1K1m"
      }
    },
    {
      "cell_type": "markdown",
      "source": [
        "# 资料\n",
        "流失数据 \n",
        "../input/item-update-churn\n",
        "数据描述\n",
        "\n",
        "数据时间：2022.11.2\n",
        "付费更新：老券（通用券）+新券（买赠券）+支付点数 都算付费更新\n",
        "\n",
        "只包含车商数据\n",
        "1. 用户基本信息，注册时间、加入时长、流失时间、账号类型、县市、性别\n",
        "2. 用户消费情况，储值金额、各商品消费金额、消费频次、连续消费时长\n",
        "3. 用户标签，豪华厂牌，普通厂牌\n",
        "3. 用户更新消费情况，加值卡储值、退款、消费、连续消费时常\n",
        "\n",
        "## 数据处理规划\n",
        "1. 清洗数据\n",
        "> 完全合一\n",
        "完整性：是否存在na，字段是否完整\n",
        "全面性：观察一列全部数据，用常识判断是否合理，数据定义、数据本身、数据单位等\n",
        "合法性：数据类型、内容、大小合法性，譬如性别存在未知，年龄超过150等\n",
        "唯一性：是否存在重复数据\n",
        "    - 填入 na 数据 => df.fillna(0)\n",
        "    - 统一数据枚举 => df['field'].replace('old','new')\n",
        "2. 分类数据，按各维度展示，流失/非流失\n",
        "    - 多维度同时展示 => [pandas 实现](https://pandas.pydata.org/pandas-docs/stable/user_guide/visualization.html#using-layout-and-targeting-multiple-axes)\n",
        "3. 将高相关性的维度组合，了解维度关系\n",
        "\n",
        "4. 进一步归一化、二值化数据维度\n",
        "5. 拆分训练和验证数据集\n",
        "6. 训练模型，观察数据结果\n"
      ],
      "metadata": {
        "id": "MbNkWS0C1K1n"
      }
    },
    {
      "cell_type": "code",
      "source": [
        "#@title 数据表单设定{ run: \"auto\" }\n",
        "#@description先设定表单，再按执行全部；数据周期2022.11.5往前推90天\n",
        "start_date = \"2022-10-01\" #@param {type:\"date\"}\n",
        "end_date = \"2022-10-31\" #@param {type:\"date\"}\n"
      ],
      "metadata": {
        "id": "y3xh1njT0kY3"
      },
      "execution_count": null,
      "outputs": []
    },
    {
      "cell_type": "markdown",
      "source": [
        "# 数据处理"
      ],
      "metadata": {
        "id": "xRCVyPGI1K1n"
      }
    },
    {
      "cell_type": "code",
      "source": [
        "# 加载包\n",
        "import pandas as pd\n",
        "from sklearn import preprocessing\n",
        "import numpy as np\n",
        "import seaborn as sb\n",
        "\n",
        "!wget -O TaipeiSansTCBeta-Regular.ttf https://drive.google.com/uc?id=1eGAsTN1HBpJAkeVM57_C7ccp7hbgSz3_&export=download\n",
        "\n",
        "import matplotlib as mpl\n",
        "import matplotlib.pyplot as plt \n",
        "from matplotlib.font_manager import fontManager\n",
        "from matplotlib.pyplot import MultipleLocator\n",
        "\n",
        "# 改style要在改font之前\n",
        "# plt.style.use('seaborn')  \n",
        "\n",
        "fontManager.addfont('TaipeiSansTCBeta-Regular.ttf')\n",
        "mpl.rc('font', family='Taipei Sans TC Beta')"
      ],
      "metadata": {
        "execution": {
          "iopub.status.busy": "2022-11-08T08:55:43.134658Z",
          "iopub.execute_input": "2022-11-08T08:55:43.135088Z",
          "iopub.status.idle": "2022-11-08T08:55:44.379676Z",
          "shell.execute_reply.started": "2022-11-08T08:55:43.135054Z",
          "shell.execute_reply": "2022-11-08T08:55:44.378552Z"
        },
        "trusted": true,
        "id": "oxEFnlrA1K1o"
      },
      "execution_count": null,
      "outputs": []
    },
    {
      "cell_type": "code",
      "source": [
        "from google.colab import drive\n",
        "drive.mount('/content/drive')"
      ],
      "metadata": {
        "id": "0Qj8YmEh4Z_V"
      },
      "execution_count": null,
      "outputs": []
    },
    {
      "cell_type": "code",
      "source": [
        "#@title\n",
        "df = pd.read_csv('/content/drive/MyDrive/8891数据/2022更新流失预测模型/流失特征-三次清洗.csv', parse_dates=[0,1,2,3,4])\n",
        "df.rename(columns={\n",
        "    \"會員註冊時間\": \"regist_date\",\n",
        "    \"開始觀察時間（90天前）\": \"before_last_payment_90days\",\n",
        "    \"流失時間\": \"last_payment_date\",\n",
        "    \"年月日\": \"date\",\n",
        "    \"最早更新時間\": \"first_update_date\",\n",
        "    \"會員角色\": \"role\",\n",
        "    \"是否嚴選車商（清洗）\": \"is_selection_member\",\n",
        "    \"縣市\": \"region\",\n",
        "    \"性別\": \"sex\",\n",
        "    \"是否流失（清洗）\": \"churn\",\n",
        "    \"成交物件數\": \"deal_item_num\",\n",
        "    \"儲值\": \"store_amount\",\n",
        "    \"點擊數\": \"item_clicks\",\n",
        "    \"點擊轉化率\": \"item_clicks_rate\",\n",
        "    \"更新-認列營收（稅前）\": \"item_update_revenue_without_tax\",\n",
        "    \"更新次數\": \"item_update_count\",\n",
        "    \"更新物件數\": \"updated_items\",\n",
        "    \"豪華廠牌-物件數\": \"exbrand_items\",\n",
        "    \"加入時長（月）\": \"join_months\",\n",
        "    \"加值卡儲值\": \"item_update_store\",\n",
        "    \"加值卡退款\": \"item_update_refund\",\n",
        "    \"加值卡消費\": \"item_update_cost\",\n",
        "    \"加值卡餘額\": \"item_update_balance\",\n",
        "    \"精選-認列營收（稅前）\": \"jx_cost\",\n",
        "    \"刊登物件數\": \"items\",\n",
        "    \"冷門廠牌-物件數\": \"cobrand_items\",\n",
        "    \"聯絡點擊轉化率\": \"contact_rate\",\n",
        "    \"聯絡數\": \"contact_clicks\",\n",
        "    \"流失當天物件數\": \"churn_date_items\",\n",
        "    \"流失天數（最後一次使用距今天數）\": \"last_payment_diffdate\",\n",
        "    \"瀏覽數\": \"views\",\n",
        "    \"賣家id\": \"m_id\",\n",
        "    \"普通廠牌-物件數\": \"nobrand_items\",\n",
        "    \"曝光數\": \"impressions\",\n",
        "    \"餘額\": \"balance\",\n",
        "    \"置頂-認列營收（稅前）\": \"topitem_cost\",\n",
        "    \"中古車加值-認列營收（稅前）\": \"extra_cost\",\n",
        "    \"中古車刊登-認列營收（稅前）\": \"item_post_cost\",\n",
        "    \"總認列營收（稅前）\": \"total_cost\"\n",
        "}, inplace=True)\n",
        "df"
      ],
      "metadata": {
        "execution": {
          "iopub.status.busy": "2022-11-08T09:38:45.308208Z",
          "iopub.execute_input": "2022-11-08T09:38:45.308583Z",
          "iopub.status.idle": "2022-11-08T09:38:45.643824Z",
          "shell.execute_reply.started": "2022-11-08T09:38:45.308551Z",
          "shell.execute_reply": "2022-11-08T09:38:45.642777Z"
        },
        "trusted": true,
        "id": "cRZQyOV-1K1o",
        "collapsed": true
      },
      "execution_count": null,
      "outputs": []
    },
    {
      "cell_type": "markdown",
      "source": [
        "问题：由于流失时间不一样，需要统一时间节点，用相对时间进行评估\n",
        "数据处理目标：所有车商，流失前30天数据\n",
        "\n",
        "## 取2022年10月数据评估\n"
      ],
      "metadata": {
        "id": "Sr-fkUxv1K1q"
      }
    },
    {
      "cell_type": "code",
      "source": [
        "df = df.query('date >= \"%s\" and date <= \"%s\"' %(start_date, end_date))\n",
        "df"
      ],
      "metadata": {
        "execution": {
          "iopub.status.busy": "2022-11-08T09:38:47.537285Z",
          "iopub.execute_input": "2022-11-08T09:38:47.537623Z",
          "iopub.status.idle": "2022-11-08T09:38:47.593702Z",
          "shell.execute_reply.started": "2022-11-08T09:38:47.537598Z",
          "shell.execute_reply": "2022-11-08T09:38:47.592498Z"
        },
        "trusted": true,
        "id": "Y497hc9c1K1p"
      },
      "execution_count": null,
      "outputs": []
    },
    {
      "cell_type": "markdown",
      "source": [
        "## 合法性\n",
        "\n"
      ],
      "metadata": {
        "id": "m3dtSDF2hGT5"
      }
    },
    {
      "cell_type": "code",
      "source": [
        "df.info()"
      ],
      "metadata": {
        "execution": {
          "iopub.status.busy": "2022-11-08T09:38:31.825497Z",
          "iopub.execute_input": "2022-11-08T09:38:31.825879Z",
          "iopub.status.idle": "2022-11-08T09:38:31.850319Z",
          "shell.execute_reply.started": "2022-11-08T09:38:31.825853Z",
          "shell.execute_reply": "2022-11-08T09:38:31.848546Z"
        },
        "trusted": true,
        "id": "MwvAFucl1K1p"
      },
      "execution_count": null,
      "outputs": []
    },
    {
      "cell_type": "markdown",
      "source": [
        "上面格式看到部分格式不对，应为数值，但格式却是object，查看数据里面存在千分号，需要去掉数值千分号"
      ],
      "metadata": {
        "id": "cfRpQI8Viyed"
      }
    },
    {
      "cell_type": "code",
      "source": [
        "df[[\"store_amount\",\"item_clicks\",\"item_update_revenue_without_tax\",\"exbrand_items\",\"item_update_store\",\"item_update_refund\",\"item_update_cost\",\"item_update_balance\",\"jx_cost\",\"contact_rate\",\"views\",\"nobrand_items\",\"impressions\",\"balance\",\"topitem_cost\",\"extra_cost\",\"item_post_cost\",\"total_cost\"]] = df[[\"store_amount\",\"item_clicks\",\"item_update_revenue_without_tax\",\"exbrand_items\",\"item_update_store\",\"item_update_refund\",\"item_update_cost\",\"item_update_balance\",\"jx_cost\",\"contact_rate\",\"views\",\"nobrand_items\",\"impressions\",\"balance\",\"topitem_cost\",\"extra_cost\",\"item_post_cost\",\"total_cost\"]].apply(lambda row: row.replace(',', '', regex=True).replace('∞', 0, regex=True).astype('float64'))"
      ],
      "metadata": {
        "id": "4f5jjjkEhE_h"
      },
      "execution_count": null,
      "outputs": []
    },
    {
      "cell_type": "code",
      "source": [
        "df.info()"
      ],
      "metadata": {
        "id": "5FAu9K_DyCfM"
      },
      "execution_count": null,
      "outputs": []
    },
    {
      "cell_type": "code",
      "source": [
        "df.isna().sum()"
      ],
      "metadata": {
        "execution": {
          "iopub.status.busy": "2022-11-08T09:38:54.873734Z",
          "iopub.execute_input": "2022-11-08T09:38:54.874149Z",
          "iopub.status.idle": "2022-11-08T09:38:54.891212Z",
          "shell.execute_reply.started": "2022-11-08T09:38:54.874117Z",
          "shell.execute_reply": "2022-11-08T09:38:54.890118Z"
        },
        "trusted": true,
        "id": "6Uimwyvv1K1q"
      },
      "execution_count": null,
      "outputs": []
    },
    {
      "cell_type": "code",
      "source": [
        "#@title\n",
        "df.fillna(0, inplace=True)"
      ],
      "metadata": {
        "execution": {
          "iopub.status.busy": "2022-11-08T09:38:57.693958Z",
          "iopub.execute_input": "2022-11-08T09:38:57.694353Z",
          "iopub.status.idle": "2022-11-08T09:38:57.984994Z",
          "shell.execute_reply.started": "2022-11-08T09:38:57.694322Z",
          "shell.execute_reply": "2022-11-08T09:38:57.983788Z"
        },
        "trusted": true,
        "id": "Q1ltXEKN1K1q",
        "cellView": "form"
      },
      "execution_count": null,
      "outputs": []
    },
    {
      "cell_type": "code",
      "source": [
        "#@title\n",
        "df.isna().sum()"
      ],
      "metadata": {
        "execution": {
          "iopub.status.busy": "2022-11-08T09:39:02.263971Z",
          "iopub.execute_input": "2022-11-08T09:39:02.264317Z",
          "iopub.status.idle": "2022-11-08T09:39:02.284382Z",
          "shell.execute_reply.started": "2022-11-08T09:39:02.264292Z",
          "shell.execute_reply": "2022-11-08T09:39:02.283450Z"
        },
        "trusted": true,
        "id": "gVpWe7V81K1q",
        "cellView": "form"
      },
      "execution_count": null,
      "outputs": []
    },
    {
      "cell_type": "code",
      "source": [
        "#@title\n",
        "df.describe()"
      ],
      "metadata": {
        "execution": {
          "iopub.status.busy": "2022-11-08T09:11:59.433689Z",
          "iopub.execute_input": "2022-11-08T09:11:59.434081Z",
          "iopub.status.idle": "2022-11-08T09:11:59.483198Z",
          "shell.execute_reply.started": "2022-11-08T09:11:59.434051Z",
          "shell.execute_reply": "2022-11-08T09:11:59.481505Z"
        },
        "trusted": true,
        "id": "G3SBo8ft1K1q",
        "cellView": "form"
      },
      "execution_count": null,
      "outputs": []
    },
    {
      "cell_type": "code",
      "source": [
        "#@title\n",
        "df['m_id'].value_counts().count()"
      ],
      "metadata": {
        "execution": {
          "iopub.status.busy": "2022-11-08T09:39:07.770623Z",
          "iopub.execute_input": "2022-11-08T09:39:07.771694Z",
          "iopub.status.idle": "2022-11-08T09:39:07.780502Z",
          "shell.execute_reply.started": "2022-11-08T09:39:07.771657Z",
          "shell.execute_reply": "2022-11-08T09:39:07.778984Z"
        },
        "trusted": true,
        "id": "lEErqAqr1K1r",
        "cellView": "form"
      },
      "execution_count": null,
      "outputs": []
    },
    {
      "cell_type": "markdown",
      "source": [
        "增加付费时长 payment_days"
      ],
      "metadata": {
        "id": "YtnjfqVz8a5t"
      }
    },
    {
      "cell_type": "code",
      "source": [
        "#@title\n",
        "df['payment_days'] = ((df['last_payment_date']-df['first_update_date']) / np.timedelta64(1, 'D')).astype(int)\n",
        "df['payment_days']"
      ],
      "metadata": {
        "id": "poFpl2gCKiW7",
        "cellView": "form"
      },
      "execution_count": null,
      "outputs": []
    },
    {
      "cell_type": "markdown",
      "source": [
        "将加值卡消费转正数"
      ],
      "metadata": {
        "id": "sos0N7DY8gMm"
      }
    },
    {
      "cell_type": "code",
      "source": [
        "#@title\n",
        "df['item_update_cost'] = -df['item_update_cost']\n",
        "df['item_update_cost']"
      ],
      "metadata": {
        "id": "wc6HlQr0RcNQ",
        "cellView": "form"
      },
      "execution_count": null,
      "outputs": []
    },
    {
      "cell_type": "markdown",
      "source": [
        "# 数据分析"
      ],
      "metadata": {
        "id": "WTBWEYuy3FRY"
      }
    },
    {
      "cell_type": "markdown",
      "source": [
        "**将数据聚合到账号下(m_id)，以账号维度分析**"
      ],
      "metadata": {
        "id": "2dCWTNDZxj2H"
      }
    },
    {
      "cell_type": "code",
      "source": [
        "#@title\n",
        "midf = df.groupby('m_id').agg({\n",
        "    # 用户信息\n",
        "  \"churn\": 'last',\n",
        "  \"sex\": 'last',\n",
        "  \"region\": 'last',\n",
        "  \"is_selection_member\": 'last',\n",
        "\n",
        "  # 时间\n",
        "  \"join_months\": 'last',\n",
        "  \"payment_days\": 'last',\n",
        "  \"last_payment_diffdate\": 'last',\n",
        "\n",
        "  # 物件使用&效果\n",
        "  \"items\": 'mean',\n",
        "  \"churn_date_items\": 'last',\n",
        "  \"exbrand_items\": 'last',\n",
        "  \"nobrand_items\": 'last',\n",
        "  \"cobrand_items\": 'last',\n",
        "  \"deal_item_num\": 'sum',\n",
        "  \"views\": 'mean',\n",
        "  \"impressions\": 'mean',\n",
        "  \"item_clicks\": 'mean',\n",
        "  \"item_clicks_rate\": 'mean',\n",
        "  \"contact_rate\": 'mean',\n",
        "  \"contact_clicks\": 'mean',\n",
        "\n",
        "  # 更新使用&消费情况\n",
        "  \"item_update_count\": 'mean',\n",
        "  \"updated_items\": 'mean',\n",
        "  \"item_update_revenue_without_tax\": 'sum',\n",
        "  \"balance\": 'last',\n",
        "  \"store_amount\": 'sum',\n",
        "  \"item_update_store\": 'sum',\n",
        "  \"item_update_refund\": 'sum',\n",
        "  \"item_update_cost\": 'sum',\n",
        "  \"item_update_balance\": 'last',\n",
        "\n",
        "  # 其他使用情况\n",
        "  \"jx_cost\": 'sum',\n",
        "  \"topitem_cost\": 'sum',\n",
        "  \"extra_cost\": 'sum',\n",
        "  \"item_post_cost\": 'sum',\n",
        "  \"total_cost\": 'sum',\n",
        "})"
      ],
      "metadata": {
        "id": "_8uz2Nmexijp"
      },
      "execution_count": null,
      "outputs": []
    },
    {
      "cell_type": "markdown",
      "source": [
        "## 总体用户数据概览"
      ],
      "metadata": {
        "id": "2Q_RP9OO3YSx"
      }
    },
    {
      "cell_type": "markdown",
      "source": [
        "### 用户信息"
      ],
      "metadata": {
        "id": "h_1Bz98f7yaX"
      }
    },
    {
      "cell_type": "code",
      "source": [
        "fig, axes = plt.subplots(2, 2, figsize=(8, 6))\n",
        "midf['churn'].hist(ax=axes[0,0])\n",
        "midf['is_selection_member'].hist(ax=axes[0,1])\n",
        "midf['sex'].value_counts().plot(kind='bar', ax=axes[1,0])\n",
        "midf['region'].value_counts().plot(kind='bar', ax=axes[1,1])\n",
        "plt.show()\n"
      ],
      "metadata": {
        "id": "ldzELzp58s4y"
      },
      "execution_count": null,
      "outputs": []
    },
    {
      "cell_type": "markdown",
      "source": [
        "**从数据可以了解什么？**\n",
        "1. 每月流失比例较少\n",
        "2. 严选更新占比较少\n",
        "3. 使用人群男性占大多数，但女性也占到接近 20%\n",
        "4. 桃园车商更热衷使用更新，使用人数接近后面的2倍。使用用户集中在北部（桃园、新北、台北）"
      ],
      "metadata": {
        "id": "4TR28iP5I50l"
      }
    },
    {
      "cell_type": "code",
      "source": [
        "#@title\n",
        "fig, axes = plt.subplots(1, 3, figsize=(20, 5))\n",
        "tmpdf = midf.query('churn==0')[[\"join_months\",\"payment_days\", \"items\"]]\n",
        "tmpdf.hist(ax=axes, bins=20)\n",
        "axes[2].xaxis.set_major_locator(MultipleLocator(10))\n",
        "plt.show()"
      ],
      "metadata": {
        "id": "9KRDH8ctFhUG"
      },
      "execution_count": null,
      "outputs": []
    },
    {
      "cell_type": "code",
      "source": [
        "tmpdf.describe()"
      ],
      "metadata": {
        "id": "wDRN7J762XGM"
      },
      "execution_count": null,
      "outputs": []
    },
    {
      "cell_type": "markdown",
      "source": [
        "**从数据可以了解什么？**\n",
        "1. 使用人群集中在 3 年，5-8年，11-14年。使用最多是1.5年内用户\n",
        "2. 持续支付周期最多是5个月，说明大部分人都接纳更新并持续使用"
      ],
      "metadata": {
        "id": "P4RgI2lTKo0Q"
      }
    },
    {
      "cell_type": "markdown",
      "source": [
        "### 消费情况"
      ],
      "metadata": {
        "id": "BvxQY_sg6u8z"
      }
    },
    {
      "cell_type": "code",
      "source": [
        "#@title\n",
        "tmpdf = midf[[\"total_cost\",\"item_update_revenue_without_tax\",\"jx_cost\",\"topitem_cost\",\"item_post_cost\", \"payment_days\"]]\n",
        "tmpdf.describe()"
      ],
      "metadata": {
        "id": "JDflaHPg9jCz"
      },
      "execution_count": null,
      "outputs": []
    },
    {
      "cell_type": "code",
      "source": [
        "#@title\n",
        "fig, axes = plt.subplots(2,3,figsize=(30,10))\n",
        "# churndf['item_update_cost'].hist(ax=axes[0,1], xrot=90)\n",
        "# axes[0,1].xaxis.set_major_locator(MultipleLocator(5000))\n",
        "# churndf['item_update_cost'].hist(ax=axes[0,1], xrot=90)\n",
        "tmpdf.hist(ax=axes, xrot=90, bins=20)\n",
        "axes[0,0].set_title('总消费')\n",
        "axes[0,1].set_title('更新消费')\n",
        "axes[0,1].xaxis.set_major_locator(MultipleLocator(2000))\n",
        "axes[0,2].set_title('精选消费')\n",
        "axes[0,2].xaxis.set_major_locator(MultipleLocator(2000))\n",
        "axes[1,0].set_title('置顶消费')\n",
        "axes[1,1].set_title('刊登消费')\n",
        "axes[1,2].set_title('更新付费时长')\n",
        "plt.suptitle('用户消费情况')\n",
        "plt.show()"
      ],
      "metadata": {
        "id": "LOmcU9986tPF"
      },
      "execution_count": null,
      "outputs": []
    },
    {
      "cell_type": "markdown",
      "source": [
        "**从数据可以了解什么？**\n",
        "1. 认列ARPU在1万左右，更新消费50%（消费，会有误差），精选10%，置顶12%，刊登30%\n",
        "2. 认列ARPU， 人均:9571, 更新：5247，精选：1093，置顶：1205，刊登：3086，更新付费时长：134\n",
        "\n"
      ],
      "metadata": {
        "id": "AYmngGNx8zN2"
      }
    },
    {
      "cell_type": "code",
      "source": [
        "(midf['topitem_cost'] == 0).value_counts().plot(kind=\"bar\")\n",
        "plt.show()"
      ],
      "metadata": {
        "id": "a-MYkLEpWtHg"
      },
      "execution_count": null,
      "outputs": []
    },
    {
      "cell_type": "markdown",
      "source": [
        "## 流失用户分析"
      ],
      "metadata": {
        "id": "QXeinIAVO4Vp"
      }
    },
    {
      "cell_type": "code",
      "source": [
        "churndf = midf.query('churn==1')"
      ],
      "metadata": {
        "id": "WROhOp_rZJPv"
      },
      "execution_count": null,
      "outputs": []
    },
    {
      "cell_type": "code",
      "source": [
        "churndf['churn'].count()"
      ],
      "metadata": {
        "id": "bGfsp3mqg82g"
      },
      "execution_count": null,
      "outputs": []
    },
    {
      "cell_type": "markdown",
      "source": [
        "10月流失61人"
      ],
      "metadata": {
        "id": "3CMmQK92hPsw"
      }
    },
    {
      "cell_type": "code",
      "source": [
        "#@title\n",
        "fig, axes = plt.subplots(2, 3, figsize=(15, 8))\n",
        "churndf['churn'].value_counts().plot(kind='bar', ax=axes[0,0])\n",
        "axes[0,0].set_title('流失')\n",
        "churndf['is_selection_member'].value_counts().plot(kind='bar', ax=axes[0,1])\n",
        "axes[0,1].set_title('是否严选')\n",
        "churndf['sex'].value_counts().plot(kind='bar', ax=axes[0,2])\n",
        "axes[0,2].set_title('性别')\n",
        "churndf['region'].value_counts().plot(kind='bar', ax=axes[1,0])\n",
        "axes[1,0].set_title('地区')\n",
        "churndf['join_months'].hist(ax=axes[1,1])\n",
        "axes[1,1].set_title('加入时长')\n",
        "churndf['join_months'].hist(ax=axes[1,2])\n",
        "axes[1,2].set_title('更新消费时长')\n",
        "plt.suptitle(\"流失车商用户信息情况\")\n",
        "plt.show()"
      ],
      "metadata": {
        "id": "OCuxTgQ8_RyI",
        "cellView": "form"
      },
      "execution_count": null,
      "outputs": []
    },
    {
      "cell_type": "code",
      "source": [
        "tmpdf = midf.query('churn==0 and region==\"台北市\"')\n",
        "fig, axes = plt.subplots(1, 2, figsize=(15, 3))\n",
        "\n",
        "axes[0].set_title('刊登消费')\n",
        "tmpdf['item_post_cost'].hist(ax=axes[0], xrot=90)\n",
        "\n",
        "\n",
        "axes[1].set_title('加值消费')\n",
        "axes[1].set_xlim([0, 50000]) # 排除极端值, 少数超过5万\n",
        "axes[1].xaxis.set_major_locator(MultipleLocator(2000))\n",
        "tmpdf['extra_cost'].hist(ax=axes[1], xrot=90, bins=100)\n",
        "\n",
        "plt.suptitle(\"台北市未流失车商消费\")\n",
        "plt.show()"
      ],
      "metadata": {
        "id": "lGU6WoB5_yWY"
      },
      "execution_count": null,
      "outputs": []
    },
    {
      "cell_type": "markdown",
      "source": [
        "**从数据可以了解什么？**\n",
        "1. 流失用户中，严选、性别、地区比例基本与使用人群相符，没有太大差别\n",
        "2. 其中流失地区最多仍是桃园，但占比较多的台北，流失反而较少。台北的车商更愿意使用更新服务。\n",
        "3. 台北车商更愿意用，并非他们更愿意花钱，相反他们的消费都在 4000 内"
      ],
      "metadata": {
        "id": "Wq9yaPe3-wHi"
      }
    },
    {
      "cell_type": "code",
      "source": [
        "tmpdf = churndf[[\"total_cost\",\"item_update_revenue_without_tax\",\"jx_cost\",\"topitem_cost\",\"item_post_cost\", \"payment_days\"]]\n",
        "fig, axes = plt.subplots(2,3,figsize=(20,10))\n",
        "# churndf['total_cost'].hist(ax=axes[0,0], bins=200, xrot=90)\n",
        "# axes[0,0].xaxis.set_major_locator(MultipleLocator(5000))\n",
        "# churndf['item_update_cost'].hist(ax=axes[0,1], xrot=90)\n",
        "# axes[0,1].xaxis.set_major_locator(MultipleLocator(5000))\n",
        "# churndf['item_update_cost'].hist(ax=axes[0,1], xrot=90)\n",
        "tmpdf.hist(ax=axes)\n",
        "axes[0,0].set_title('总认列')\n",
        "axes[0,1].set_title('更新认列')\n",
        "axes[0,2].set_title('精选认列')\n",
        "axes[1,0].set_title('置顶认列')\n",
        "axes[1,1].set_title('刊登认列')\n",
        "axes[1,2].set_title('更新付费时长')\n",
        "plt.suptitle('流失用户认列情况')\n",
        "plt.show()"
      ],
      "metadata": {
        "id": "uVnQAubFPZvi"
      },
      "execution_count": null,
      "outputs": []
    },
    {
      "cell_type": "code",
      "source": [
        "tmpdf.mean()"
      ],
      "metadata": {
        "id": "WPeXnZXRYTAH"
      },
      "execution_count": null,
      "outputs": []
    },
    {
      "cell_type": "markdown",
      "source": [
        "**从数据可以了解什么？**\n",
        "1. 流失用户虽然是车商，但都是小额消费，刊登认列基本在500以下，但更新的LT挺长在3个月+，可能购买了8笔的季度套餐\n",
        "2. 重更新，轻置顶等大额消费\n",
        "\n",
        "这类用户猜测是对价格敏感的小型车商"
      ],
      "metadata": {
        "id": "-hdFQ4QwiYOk"
      }
    },
    {
      "cell_type": "code",
      "source": [
        "tmpdf = churndf[[\"item_update_count\",\"updated_items\",\"item_update_revenue_without_tax\",\"balance\",\"store_amount\",\"item_update_store\",\"item_update_refund\",\"item_update_cost\",\"item_update_balance\"]]\n",
        "fig, axes = plt.subplots(3,3,figsize=(20,10))\n",
        "tmpdf.hist(ax=axes, bins=20, xrot=90)\n",
        "axes[0,0].set_title('更新次数')\n",
        "axes[0,1].set_title('更新物件数')\n",
        "axes[0,1].xaxis.set_major_locator(MultipleLocator(5))\n",
        "axes[0,2].set_title('更新认列')\n",
        "axes[1,0].set_title('点数余额')\n",
        "axes[1,1].set_title('储值金额')\n",
        "axes[1,1].xaxis.set_major_locator(MultipleLocator(500))\n",
        "axes[1,2].set_title('加值卡储值')\n",
        "axes[1,2].xaxis.set_major_locator(MultipleLocator(50))\n",
        "axes[2,0].set_title('加值卡退款')\n",
        "axes[2,1].set_title('加值卡消费')\n",
        "axes[2,2].set_title('加值卡余额')\n",
        "axes[2,2].xaxis.set_major_locator(MultipleLocator(1000))\n",
        "plt.suptitle('流失用户消费情况')\n",
        "plt.show()"
      ],
      "metadata": {
        "id": "Bn3828IaQOFC"
      },
      "execution_count": null,
      "outputs": []
    },
    {
      "cell_type": "code",
      "source": [
        "tmpdf.describe()"
      ],
      "metadata": {
        "id": "JHWtPyKBe-Bq"
      },
      "execution_count": null,
      "outputs": []
    },
    {
      "cell_type": "markdown",
      "source": [
        "🌟**从数据可以了解什么？**\n",
        "1. 75%的流失用户都没有储值，余额在0。储值行为可以作为一个明显特征，用户的账户健康程度（有持续的流水），说明用户在持续使用产品。\n",
        "2. 另外用户的刊登物件是否有缩减也可以作为一个明显特征。"
      ],
      "metadata": {
        "id": "pwMdRp2GezSq"
      }
    },
    {
      "cell_type": "code",
      "source": [
        "tmpdf = churndf[[\"items\",\"churn_date_items\",\"exbrand_items\",\"nobrand_items\",\"cobrand_items\",\"deal_item_num\"]]\n",
        "fig, axes = plt.subplots(2,3,figsize=(20,10))\n",
        "tmpdf.hist(ax=axes, bins=20, xrot=90)\n",
        "axes[0,0].set_title('平均在售物件数')\n",
        "axes[0,0].xaxis.set_major_locator(MultipleLocator(5))\n",
        "axes[0,1].set_title('流失当天物件数')\n",
        "axes[0,2].set_title('豪华厂牌物件数') # TODO: 标识用户是豪华为主还是普通为主\n",
        "axes[1,0].set_title('普通厂牌物件数')\n",
        "axes[1,1].set_title('冷门厂牌物件数')\n",
        "axes[1,2].set_title('成交物件数')\n",
        "axes[1,2].xaxis.set_major_locator(MultipleLocator(1))\n",
        "plt.suptitle('流失用户物件情况')\n",
        "plt.show()"
      ],
      "metadata": {
        "id": "6VUPck0YoJ_v"
      },
      "execution_count": null,
      "outputs": []
    },
    {
      "cell_type": "code",
      "source": [
        "tmpdf.describe()"
      ],
      "metadata": {
        "id": "VToR0nTWX0kx"
      },
      "execution_count": null,
      "outputs": []
    },
    {
      "cell_type": "code",
      "source": [
        "churndf['main_brand'] = churndf[[\"exbrand_items\",\"nobrand_items\",\"cobrand_items\"]].idxmax(axis=1).replace('exbrand_items','豪华厂牌').replace('nobrand_items','普通厂牌').replace('cobrand_items','冷门厂牌')\n"
      ],
      "metadata": {
        "id": "DC0SrasnL6lg"
      },
      "execution_count": null,
      "outputs": []
    },
    {
      "cell_type": "code",
      "source": [
        "churndf['main_brand'].hist()"
      ],
      "metadata": {
        "id": "iOOx1iJlXPwF"
      },
      "execution_count": null,
      "outputs": []
    },
    {
      "cell_type": "markdown",
      "source": [
        "**从数据可以了解什么？**\n",
        "1. 流失用户刊登普通厂牌为主的较多\n",
        "2. 流失用户几乎没有成交"
      ],
      "metadata": {
        "id": "TJlNSJjEL5wZ"
      }
    },
    {
      "cell_type": "code",
      "source": [
        "from google.colab import auth\n",
        "from google.cloud import bigquery\n",
        "from google.colab import data_table\n",
        "\n",
        "project = 'newcar8891' # Project ID inserted based on the query results selected to explore\n",
        "location = 'US' # Location inserted based on the query results selected to explore\n",
        "client = bigquery.Client(project=project, location=location)\n",
        "data_table.enable_dataframe_formatter()\n",
        "auth.authenticate_user()"
      ],
      "metadata": {
        "id": "U1if1sec1NvL"
      },
      "execution_count": null,
      "outputs": []
    },
    {
      "cell_type": "code",
      "source": [
        "bgdf = client.query(\"\"\"\n",
        "select m_id,\n",
        "       count(distinct if(substr(note, 1, 5) = '加值卡扣除', 0, relate_data)) as use_coupon,\n",
        "       count(distinct if(substr(note, 1, 5) = '加值卡扣除', relate_data, 0)) as use_point,\n",
        "       count(distinct if(sale_code between 9005001 and 9005004, relate_data, 0)) as nbrand_updates,\n",
        "       count(distinct if(sale_code between 9005011 and 9005014, relate_data, 0)) as exbrand_updates,\n",
        "       count(distinct if(sale_code in (9005001, 9005011), relate_data, 0)) as plan_below_4,\n",
        "       count(distinct if(sale_code in (9005002, 9005012), relate_data, 0)) as plan_below_9,\n",
        "       count(distinct if(sale_code in (9005003, 9005013), relate_data, 0)) as plan_below_23,\n",
        "       count(distinct if(sale_code in (9005004, 9005014), relate_data, 0)) as plan_below_24,\n",
        "       count(distinct relate_data) as total_update_items,\n",
        "       count(1) as total_updates\n",
        "       from t8891.t_sele_item_update_bill where record_time between '2022-10-01' and '2022-11-01' and io_flag = '-' group by m_id;\n",
        "\"\"\").to_dataframe()\n",
        "bgdf"
      ],
      "metadata": {
        "execution": {
          "iopub.status.busy": "2022-11-08T10:36:12.826438Z",
          "iopub.execute_input": "2022-11-08T10:36:12.826893Z",
          "iopub.status.idle": "2022-11-08T10:36:14.935628Z",
          "shell.execute_reply.started": "2022-11-08T10:36:12.826801Z",
          "shell.execute_reply": "2022-11-08T10:36:14.934480Z"
        },
        "trusted": true,
        "id": "FuhPYh_S1K1s"
      },
      "execution_count": null,
      "outputs": []
    },
    {
      "cell_type": "code",
      "source": [
        "bgdf.set_index('m_id', inplace=True)\n",
        "midf.index = midf.index.str.replace(',','').astype('int64')"
      ],
      "metadata": {
        "id": "WZ3E1RVxj_Cs"
      },
      "execution_count": null,
      "outputs": []
    },
    {
      "cell_type": "code",
      "source": [
        "mdf = midf.join(bgdf)\n",
        "mdf"
      ],
      "metadata": {
        "id": "Md-iJckrkJWc"
      },
      "execution_count": null,
      "outputs": []
    },
    {
      "cell_type": "code",
      "source": [
        "tmpdf = mdf[[\"use_coupon\",\"use_point\",\"nbrand_updates\",\"exbrand_updates\",\"plan_below_4\",\"plan_below_9\",\"plan_below_23\",\"plan_below_24\",\"total_update_items\",\"total_updates\"]]\n",
        "tmpdf.hist(figsize=(20,15), bins=20)\n",
        "plt.show()"
      ],
      "metadata": {
        "id": "K0dlIEl2mYId"
      },
      "execution_count": null,
      "outputs": []
    }
  ]
}